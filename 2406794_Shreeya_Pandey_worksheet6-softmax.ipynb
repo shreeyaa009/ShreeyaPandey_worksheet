{
  "nbformat": 4,
  "nbformat_minor": 0,
  "metadata": {
    "colab": {
      "provenance": []
    },
    "kernelspec": {
      "name": "python3",
      "display_name": "Python 3"
    },
    "language_info": {
      "name": "python"
    }
  },
  "cells": [
    {
      "cell_type": "markdown",
      "source": [
        "**IMPLEMENTATION OF SOFTMAX REGRESSION**"
      ],
      "metadata": {
        "id": "8VIaXTyrBPwy"
      }
    },
    {
      "cell_type": "markdown",
      "source": [
        "Implementing softmax function:"
      ],
      "metadata": {
        "id": "kpQVaYh8EZlc"
      }
    },
    {
      "cell_type": "code",
      "source": [
        "import numpy as np\n",
        "\n",
        "def softmax(z):\n",
        "    \"\"\"\n",
        "    Compute the softmax probabilities for a 2D array.\n",
        "\n",
        "    Parameters:\n",
        "    z (numpy.ndarray): Input array of shape (m, n) (m = samples, n = classes).\n",
        "\n",
        "    Returns:\n",
        "    numpy.ndarray: Probabilities of shape (m, n), where each row sums to 1.\n",
        "\n",
        "    Note: Subtracts max value in each row to improve numerical stability.\n",
        "    \"\"\"\n",
        "    exp_z = np.exp(z - np.max(z, axis=1, keepdims=True))\n",
        "    return exp_z / np.sum(exp_z, axis=1, keepdims=True)"
      ],
      "metadata": {
        "id": "Zf43vcITBXHT"
      },
      "execution_count": 106,
      "outputs": []
    },
    {
      "cell_type": "code",
      "source": [
        "def test_softmax():\n",
        "    \"\"\"\n",
        "    Test the softmax function with various cases:\n",
        "    - Output probabilities sum to 1.\n",
        "    - Probabilities are non-negative.\n",
        "    - Handles edge cases like zeros, large/small values, and mixed inputs.\n",
        "    \"\"\"\n",
        "    test_cases = [\n",
        "        (np.array([[0, 0, 0]]), \"All zeros\"),\n",
        "        (np.array([[1, 2, 3]]), \"Simple case\"),\n",
        "        (np.array([[999, 999, 999]]), \"Large identical values\"),\n",
        "        (np.array([[-999, -999, -999]]), \"Small identical values\"),\n",
        "        (np.array([[1, 0, -1]]), \"Mixed positive and negative\")\n",
        "    ]\n",
        "    for i, (z, description) in enumerate(test_cases):\n",
        "        print(f\"Running Test {i + 1}: {description}\")\n",
        "        result = softmax(z)\n",
        "        assert np.allclose(result.sum(axis=1), 1), f\"Fail: Probabilities don't sum to 1 ({description})\"\n",
        "        assert np.all(result >= 0), f\"Fail: Negative probabilities found ({description})\"\n",
        "        print(f\"Test {i + 1} passed.\")\n",
        "    print(\"All tests passed.\")\n",
        "\n",
        "test_softmax()"
      ],
      "metadata": {
        "colab": {
          "base_uri": "https://localhost:8080/"
        },
        "id": "Wp5EFHWEDk0t",
        "outputId": "24d548df-87b2-4279-b491-5526218db60d"
      },
      "execution_count": 108,
      "outputs": [
        {
          "output_type": "stream",
          "name": "stdout",
          "text": [
            "Running Test 1: All zeros\n",
            "Test 1 passed.\n",
            "Running Test 2: Simple case\n",
            "Test 2 passed.\n",
            "Running Test 3: Large identical values\n",
            "Test 3 passed.\n",
            "Running Test 4: Small identical values\n",
            "Test 4 passed.\n",
            "Running Test 5: Mixed positive and negative\n",
            "Test 5 passed.\n",
            "All tests passed.\n"
          ]
        }
      ]
    },
    {
      "cell_type": "code",
      "source": [
        "def loss_softmax(y_true, y_pred):\n",
        "    \"\"\"\n",
        "    Compute the cross-entropy loss for a single observation.\n",
        "    Parameters:\n",
        "    y_true (numpy.ndarray): True labels (one-hot encoded) of shape (c,).\n",
        "    y_pred (numpy.ndarray): Predicted probabilities of shape (c,).\n",
        "    Returns:\n",
        "    float: Cross-entropy loss for the observation.\n",
        "    \"\"\"\n",
        "    return -np.sum(y_true * np.log(y_pred + 1e-10))"
      ],
      "metadata": {
        "id": "lx3Im7sUDzD8"
      },
      "execution_count": 112,
      "outputs": []
    },
    {
      "cell_type": "code",
      "source": [
        "def test_loss_softmax():\n",
        "    \"\"\"\n",
        "    Test the loss_softmax function with different cases:\n",
        "    \"\"\"\n",
        "    # Perfect prediction\n",
        "    y_true = np.array([0, 1, 0])  # True label (one-hot)\n",
        "    y_pred = np.array([0.1, 0.8, 0.1])  # Predicted probabilities\n",
        "    assert np.isclose(loss_softmax(y_true, y_pred), -np.log(0.8)), \"Test Case 1 Failed\"\n",
        "\n",
        "    # Incorrect prediction\n",
        "    y_true = np.array([1, 0, 0])  # True label (one-hot)\n",
        "    y_pred = np.array([0.3, 0.4, 0.3])  # Predicted probabilities\n",
        "    assert np.isclose(loss_softmax(y_true, y_pred), -np.log(0.3)), \"Test Case 2 Failed\"\n",
        "\n",
        "    # Edge case: Near-zero probability\n",
        "    y_true = np.array([0, 1, 0])  # True label (one-hot)\n",
        "    y_pred = np.array([0.01, 0.98, 0.01])  # Predicted probabilities\n",
        "    assert np.isclose(loss_softmax(y_true, y_pred), -np.log(0.98)), \"Test Case 3 Failed\"\n",
        "\n",
        "    print(\"All test cases passed!\")\n",
        "\n",
        "# Run the test\n",
        "test_loss_softmax()"
      ],
      "metadata": {
        "colab": {
          "base_uri": "https://localhost:8080/"
        },
        "id": "EKIasWudD-3S",
        "outputId": "a5780b4e-3cd3-4146-a0a0-0c41bce512c4"
      },
      "execution_count": 113,
      "outputs": [
        {
          "output_type": "stream",
          "name": "stdout",
          "text": [
            "All test cases passed!\n"
          ]
        }
      ]
    },
    {
      "cell_type": "markdown",
      "source": [
        "Implementing loss function:"
      ],
      "metadata": {
        "id": "FL_KOq-LEd5Y"
      }
    },
    {
      "cell_type": "code",
      "source": [
        "def loss_softmax(y_true, y_pred):\n",
        "    \"\"\"\n",
        "    Compute the cross-entropy loss for a single observation.\n",
        "    Parameters:\n",
        "    y_true (numpy.ndarray): One-hot encoded true labels (shape: (c,)).\n",
        "    y_pred (numpy.ndarray): Predicted probabilities (shape: (c,)).\n",
        "    Returns:\n",
        "    float: Cross-entropy loss.\n",
        "    \"\"\"\n",
        "    return -np.sum(y_true * np.log(y_pred + 1e-10))  # Prevent log(0) with small epsilon"
      ],
      "metadata": {
        "id": "GhaHJy3_EBpF"
      },
      "execution_count": 111,
      "outputs": []
    },
    {
      "cell_type": "code",
      "source": [
        "def test_loss_softmax():\n",
        "    \"\"\"\n",
        "    Test the loss_softmax function with different cases:\n",
        "    - Perfect prediction\n",
        "    - Incorrect prediction\n",
        "    - Edge case with near-zero probability\n",
        "    \"\"\"\n",
        "    # Test Case 1: Perfect prediction\n",
        "    y_true = np.array([0, 1, 0])\n",
        "    y_pred = np.array([0.1, 0.8, 0.1])\n",
        "    assert np.isclose(loss_softmax(y_true, y_pred), -np.log(0.8)), \"Test 1 Failed\"\n",
        "\n",
        "    # Test Case 2: Incorrect prediction\n",
        "    y_true = np.array([1, 0, 0])\n",
        "    y_pred = np.array([0.3, 0.4, 0.3])\n",
        "    assert np.isclose(loss_softmax(y_true, y_pred), -np.log(0.3)), \"Test 2 Failed\"\n",
        "\n",
        "    # Test Case 3: Near-zero probability\n",
        "    y_true = np.array([0, 1, 0])\n",
        "    y_pred = np.array([0.01, 0.98, 0.01])\n",
        "    assert np.isclose(loss_softmax(y_true, y_pred), -np.log(0.98)), \"Test 3 Failed\"\n",
        "\n",
        "    print(\"All tests passed!\")\n",
        "\n",
        "# Run the test\n",
        "test_loss_softmax()"
      ],
      "metadata": {
        "colab": {
          "base_uri": "https://localhost:8080/"
        },
        "id": "wGkjQEB0Eude",
        "outputId": "7cbad4bd-479e-44d2-aa31-6b595d7a95d6"
      },
      "execution_count": 114,
      "outputs": [
        {
          "output_type": "stream",
          "name": "stdout",
          "text": [
            "All tests passed!\n"
          ]
        }
      ]
    },
    {
      "cell_type": "markdown",
      "source": [
        "Implementing cost function- avg of loss function:"
      ],
      "metadata": {
        "id": "IF7mCaZDEyPa"
      }
    },
    {
      "cell_type": "code",
      "source": [
        "def cost_softmax(X, y, W, b):\n",
        "    \"\"\"\n",
        "    Compute the average cross-entropy cost over all samples.\n",
        "    Parameters:\n",
        "    X (numpy.ndarray): Feature matrix of shape (n, d).\n",
        "    y (numpy.ndarray): True labels (one-hot encoded) of shape (n, c).\n",
        "    W (numpy.ndarray): Weight matrix of shape (d, c).\n",
        "    b (numpy.ndarray): Bias vector of shape (c,).\n",
        "    Returns:\n",
        "    float: Average cross-entropy cost over all samples.\n",
        "    \"\"\"\n",
        "    n, d = X.shape\n",
        "    z = np.dot(X, W) + b\n",
        "    y_pred = softmax(z)\n",
        "    return -np.sum(y * np.log(y_pred + 1e-10)) / n"
      ],
      "metadata": {
        "id": "I5IDN02_Evzp"
      },
      "execution_count": 60,
      "outputs": []
    },
    {
      "cell_type": "code",
      "source": [
        "def test_cost_softmax():\n",
        "    \"\"\"\n",
        "    Test cost_softmax with different cases:\n",
        "    - Perfect predictions\n",
        "    - Zero weights and bias\n",
        "    \"\"\"\n",
        "    # Test Case 1: Small dataset with perfect predictions\n",
        "    X = np.array([[1, 2], [2, 3], [3, 4]])\n",
        "    y = np.array([[1, 0], [0, 1], [1, 0]])\n",
        "    W = np.array([[1, -1], [-1, 1]])\n",
        "    b = np.array([0, 0])\n",
        "    y_pred = softmax(np.dot(X, W) + b)\n",
        "    expected_cost = -np.sum(y * np.log(y_pred + 1e-10)) / X.shape[0]\n",
        "    assert np.isclose(cost_softmax(X, y, W, b), expected_cost), \"Test 1 Failed\"\n",
        "\n",
        "    # Test Case 2: Zero weights and bias\n",
        "    X = np.array([[1, 0], [0, 1], [1, 1]])\n",
        "    y = np.array([[1, 0], [0, 1], [1, 0]])\n",
        "    W = np.zeros((2, 2))\n",
        "    b = np.zeros(2)\n",
        "    y_pred = softmax(np.dot(X, W) + b)\n",
        "    expected_cost = -np.sum(y * np.log(y_pred + 1e-10)) / X.shape[0]\n",
        "    assert np.isclose(cost_softmax(X, y, W, b), expected_cost), \"Test 2 Failed\"\n",
        "\n",
        "    print(\"All tests passed!\")\n",
        "\n",
        "# Run the test\n",
        "test_cost_softmax()"
      ],
      "metadata": {
        "colab": {
          "base_uri": "https://localhost:8080/"
        },
        "id": "brqZVRDrE6T8",
        "outputId": "0fb0b1b5-2f72-48e1-fd8d-1f8ca71cc31b"
      },
      "execution_count": 115,
      "outputs": [
        {
          "output_type": "stream",
          "name": "stdout",
          "text": [
            "All tests passed!\n"
          ]
        }
      ]
    },
    {
      "cell_type": "markdown",
      "source": [
        "Implementing gradient descent for softmax regression:\n",
        "\n",
        "Gradient implementation for softmax:"
      ],
      "metadata": {
        "id": "VjOcrm-sFDUD"
      }
    },
    {
      "cell_type": "code",
      "source": [
        "def compute_gradient_softmax(X, y, W, b):\n",
        "    \"\"\"\n",
        "    Compute the gradients of the cost function with respect to weights and biases.\n",
        "    Parameters:\n",
        "    X (numpy.ndarray): Feature matrix of shape (n, d).\n",
        "    y (numpy.ndarray): True labels (one-hot encoded) of shape (n, c).\n",
        "    W (numpy.ndarray): Weight matrix of shape (d, c).\n",
        "    b (numpy.ndarray): Bias vector of shape (c,).\n",
        "    Returns:\n",
        "    tuple: Gradients with respect to weights (d, c) and biases (c,).\n",
        "    \"\"\"\n",
        "    n, d = X.shape\n",
        "    z = np.dot(X, W) + b\n",
        "    y_pred = softmax(z)\n",
        "    grad_W = np.dot(X.T, (y_pred - y)) / n\n",
        "    grad_b = np.sum(y_pred - y, axis=0) / n\n",
        "    return grad_W, grad_b"
      ],
      "metadata": {
        "id": "0xSzr9z4E_J6"
      },
      "execution_count": 116,
      "outputs": []
    },
    {
      "cell_type": "code",
      "source": [
        "def test_compute_gradient_softmax():\n",
        "    # Define inputs\n",
        "    X = np.array([[1, 2], [3, 4]])  # Shape (2, 2)\n",
        "    y = np.array([[1, 0], [0, 1]])  # Shape (2, 2), one-hot encoded\n",
        "    W = np.array([[0.1, 0.2], [0.3, 0.4]])  # Shape (2, 2)\n",
        "    b = np.array([0.01, 0.02])  # Shape (2,)\n",
        "\n",
        "    # Compute expected gradients\n",
        "    z = np.dot(X, W) + b\n",
        "    y_pred = softmax(z)\n",
        "    grad_W_expected = np.dot(X.T, (y_pred - y)) / X.shape[0]\n",
        "    grad_b_expected = np.sum(y_pred - y, axis=0) / X.shape[0]\n",
        "\n",
        "    # Test gradients\n",
        "    grad_W, grad_b = compute_gradient_softmax(X, y, W, b)\n",
        "    assert np.allclose(grad_W, grad_W_expected, atol=1e-6), \"Grad W mismatch\"\n",
        "    assert np.allclose(grad_b, grad_b_expected, atol=1e-6), \"Grad b mismatch\"\n",
        "\n",
        "    print(\"Tests passed.\")\n",
        "\n",
        "# Run test\n",
        "test_compute_gradient_softmax()"
      ],
      "metadata": {
        "colab": {
          "base_uri": "https://localhost:8080/"
        },
        "id": "4WTJVyAJFOo3",
        "outputId": "8ea23c37-edc4-429c-9b73-65784e49f588"
      },
      "execution_count": 117,
      "outputs": [
        {
          "output_type": "stream",
          "name": "stdout",
          "text": [
            "Tests passed.\n"
          ]
        }
      ]
    },
    {
      "cell_type": "markdown",
      "source": [
        "Gradient descent for softmax:"
      ],
      "metadata": {
        "id": "erSNZyX-FhbF"
      }
    },
    {
      "cell_type": "code",
      "source": [
        "# Gradient Descent\n",
        "def gradient_descent_softmax(X, y, W, b, alpha, n_iter, show_cost=False):\n",
        "    \"\"\"\n",
        "    Perform gradient descent to optimize the weights and biases.\n",
        "    Parameters:\n",
        "    X (numpy.ndarray): Feature matrix of shape (n, d).\n",
        "    y (numpy.ndarray): True labels (one-hot encoded) of shape (n, c).\n",
        "    W (numpy.ndarray): Weight matrix of shape (d, c).\n",
        "    b (numpy.ndarray): Bias vector of shape (c,).\n",
        "    alpha (float): Learning rate.\n",
        "    n_iter (int): Number of iterations.\n",
        "    show_cost (bool): Whether to display the cost at intervals.\n",
        "    Returns:\n",
        "    tuple: Optimized weights, biases, and cost history.\n",
        "    \"\"\"\n",
        "    cost_history = []\n",
        "    for i in range(n_iter):\n",
        "        grad_W, grad_b = compute_gradient_softmax(X, y, W, b)\n",
        "        W -= alpha * grad_W\n",
        "        b -= alpha * grad_b\n",
        "        cost = cost_softmax(X, y, W, b)\n",
        "        cost_history.append(cost)\n",
        "        if show_cost and (i % 100 == 0 or i == n_iter - 1):\n",
        "            print(f\"Iteration {i}: Cost = {cost:.6f}\")\n",
        "    return W, b, cost_history"
      ],
      "metadata": {
        "id": "x6sRcl0xFkJ3"
      },
      "execution_count": 64,
      "outputs": []
    },
    {
      "cell_type": "code",
      "source": [
        "import matplotlib.pyplot as plt\n",
        "\n",
        "def test_gradient_descent_softmax_with_plot():\n",
        "    # Generate synthetic data\n",
        "    np.random.seed(0)\n",
        "    n, d, c = 100, 5, 3  # 100 samples, 5 features, 3 classes\n",
        "    X = np.random.rand(n, d)\n",
        "    y_indices = np.random.randint(0, c, size=n)\n",
        "    y = np.zeros((n, c))\n",
        "    y[np.arange(n), y_indices] = 1  # One-hot encoding\n",
        "\n",
        "    # Initialize weights and biases\n",
        "    W = np.random.rand(d, c)\n",
        "    b = np.random.rand(c)\n",
        "\n",
        "    # Gradient descent parameters\n",
        "    alpha = 0.01  # Learning rate\n",
        "    n_iter = 500  # Iterations\n",
        "\n",
        "    # Run gradient descent\n",
        "    W_opt, b_opt, cost_history = gradient_descent_softmax(X, y, W, b, alpha, n_iter, show_cost=False)\n",
        "\n",
        "    # Plot cost history\n",
        "    plt.figure(figsize=(8, 6))\n",
        "    plt.plot(range(n_iter), cost_history, label=\"Cost\")\n",
        "    plt.xlabel(\"Iteration\")\n",
        "    plt.ylabel(\"Cost\")\n",
        "    plt.title(f\"Cost Reduction Over Iterations (Learning Rate: {alpha})\")\n",
        "    plt.legend()\n",
        "    plt.grid()\n",
        "    plt.show()\n",
        "\n",
        "    # Display initial and final cost\n",
        "    print(f\"Initial Cost: {cost_history[0]}\")\n",
        "    print(f\"Final Cost: {cost_history[-1]}\")\n",
        "\n",
        "# Run the test\n",
        "test_gradient_descent_softmax_with_plot()"
      ],
      "metadata": {
        "colab": {
          "base_uri": "https://localhost:8080/",
          "height": 599
        },
        "id": "Q8RWt7WGFrJ4",
        "outputId": "974ae100-1427-46e0-be1f-017319f6c225"
      },
      "execution_count": 118,
      "outputs": [
        {
          "output_type": "display_data",
          "data": {
            "text/plain": [
              "<Figure size 800x600 with 1 Axes>"
            ],
            "image/png": "[encoded data removed]"
          },
          "metadata": {}
        },
        {
          "output_type": "stream",
          "name": "stdout",
          "text": [
            "Initial Cost: 1.1158608479596404\n",
            "Final Cost: 1.0892233754862581\n"
          ]
        }
      ]
    },
    {
      "cell_type": "markdown",
      "source": [
        "Prediction function:"
      ],
      "metadata": {
        "id": "Ud1YdDeBFxIA"
      }
    },
    {
      "cell_type": "code",
      "source": [
        "# Prediction Function\n",
        "def predict_softmax(X, W, b):\n",
        "    \"\"\"\n",
        "    Predict the class labels for input data.\n",
        "    Parameters:\n",
        "    X (numpy.ndarray): Feature matrix of shape (n, d).\n",
        "    W (numpy.ndarray): Weight matrix of shape (d, c).\n",
        "    b (numpy.ndarray): Bias vector of shape (c,).\n",
        "    Returns:\n",
        "    numpy.ndarray: Predicted class labels of shape (n,).\n",
        "    \"\"\"\n",
        "    z = np.dot(X, W) + b\n",
        "    y_pred = softmax(z)\n",
        "    return np.argmax(y_pred, axis=1)"
      ],
      "metadata": {
        "id": "Bqozun4KFy9s"
      },
      "execution_count": 66,
      "outputs": []
    },
    {
      "cell_type": "code",
      "source": [
        "def test_predict_softmax():\n",
        "    # Generate synthetic data for testing\n",
        "    np.random.seed(0)\n",
        "    n, d, c = 10, 5, 3 # 10 samples, 5 features, 3 classes\n",
        "    X = np.random.rand(n, d)\n",
        "    W = np.random.rand(d, c)\n",
        "    b = np.random.rand(c)\n",
        "    # Compute the predictions using the function\n",
        "    predictions = predict_softmax(X, W, b)\n",
        "    # Check the shape of the output\n",
        "    assert predictions.shape == (n,), f\"Shape mismatch: expected {(n,)}, got {predictions.shape}\"\n",
        "    # Verify that all predicted labels are within the range of class indices\n",
        "    assert np.all(predictions >= 0) and np.all(predictions < c), (\n",
        "    f\"Predictions out of range: expected 0 to {c-1}, got {predictions}\"\n",
        "    )\n",
        "    # Check that the predicted labels are integers\n",
        "    assert np.issubdtype(predictions.dtype, np.integer), f\"Predictions are not integers: {predictions.dtype}\"\n",
        "    print(\"All tests passed for predict_softmax!\")\n",
        "\n",
        "# Run the test\n",
        "test_predict_softmax()"
      ],
      "metadata": {
        "colab": {
          "base_uri": "https://localhost:8080/"
        },
        "id": "GNfo_ltQF1uF",
        "outputId": "184c66be-7ec1-4d77-d70f-f892650fd698"
      },
      "execution_count": 67,
      "outputs": [
        {
          "output_type": "stream",
          "name": "stdout",
          "text": [
            "All tests passed for predict_softmax!\n"
          ]
        }
      ]
    },
    {
      "cell_type": "markdown",
      "source": [
        "Evaluating classifier:"
      ],
      "metadata": {
        "id": "88mYmm86GAMX"
      }
    },
    {
      "cell_type": "code",
      "source": [
        "# Evaluation Function\n",
        "def evaluate_classification(y_true, y_pred):\n",
        "    \"\"\"\n",
        "    Evaluate the classification performance using confusion matrix, precision, recall, and F1-score.\n",
        "    Parameters:\n",
        "    y_true (numpy.ndarray): True class labels of shape (n,).\n",
        "    y_pred (numpy.ndarray): Predicted class labels of shape (n,).\n",
        "    Returns:\n",
        "    tuple: Confusion matrix, precision, recall, and F1-score.\n",
        "    \"\"\"\n",
        "    from sklearn.metrics import confusion_matrix, precision_score, recall_score, f1_score\n",
        "    cm = confusion_matrix(y_true, y_pred)\n",
        "    precision = precision_score(y_true, y_pred, average=\"weighted\", zero_division=0)\n",
        "    recall = recall_score(y_true, y_pred, average=\"weighted\", zero_division=0)\n",
        "    f1 = f1_score(y_true, y_pred, average=\"weighted\", zero_division=0)\n",
        "    return cm, precision, recall, f1"
      ],
      "metadata": {
        "id": "ny-wrI4SF-pl"
      },
      "execution_count": 68,
      "outputs": []
    },
    {
      "cell_type": "markdown",
      "source": [
        "Now softmax regression for the dataset 'titanic.csv' file"
      ],
      "metadata": {
        "id": "H10odM29GObU"
      }
    },
    {
      "cell_type": "code",
      "source": [
        "import pandas as pd\n",
        "from sklearn.model_selection import train_test_split\n",
        "from sklearn.preprocessing import StandardScaler\n",
        "df = pd.read_csv(r\"/content/drive/MyDrive/Datasets/Datasets/Titanic-Dataset.csv\")\n",
        "df.info()"
      ],
      "metadata": {
        "colab": {
          "base_uri": "https://localhost:8080/"
        },
        "id": "oivV8LaQGX-h",
        "outputId": "be82f13e-d465-421e-d231-2b14bf792345"
      },
      "execution_count": 69,
      "outputs": [
        {
          "output_type": "stream",
          "name": "stdout",
          "text": [
            "<class 'pandas.core.frame.DataFrame'>\n",
            "RangeIndex: 891 entries, 0 to 890\n",
            "Data columns (total 12 columns):\n",
            " #   Column       Non-Null Count  Dtype  \n",
            "---  ------       --------------  -----  \n",
            " 0   PassengerId  891 non-null    int64  \n",
            " 1   Survived     891 non-null    int64  \n",
            " 2   Pclass       891 non-null    int64  \n",
            " 3   Name         891 non-null    object \n",
            " 4   Sex          891 non-null    object \n",
            " 5   Age          714 non-null    float64\n",
            " 6   SibSp        891 non-null    int64  \n",
            " 7   Parch        891 non-null    int64  \n",
            " 8   Ticket       891 non-null    object \n",
            " 9   Fare         891 non-null    float64\n",
            " 10  Cabin        204 non-null    object \n",
            " 11  Embarked     889 non-null    object \n",
            "dtypes: float64(2), int64(5), object(5)\n",
            "memory usage: 83.7+ KB\n"
          ]
        }
      ]
    },
    {
      "cell_type": "code",
      "source": [
        "#null value check\n",
        "df.isnull().sum()"
      ],
      "metadata": {
        "colab": {
          "base_uri": "https://localhost:8080/",
          "height": 460
        },
        "id": "E-MpXGcBGpaf",
        "outputId": "cc8ac0bf-cbf4-4b87-85e2-7fbc9b8be9f1"
      },
      "execution_count": 70,
      "outputs": [
        {
          "output_type": "execute_result",
          "data": {
            "text/plain": [
              "PassengerId      0\n",
              "Survived         0\n",
              "Pclass           0\n",
              "Name             0\n",
              "Sex              0\n",
              "Age            177\n",
              "SibSp            0\n",
              "Parch            0\n",
              "Ticket           0\n",
              "Fare             0\n",
              "Cabin          687\n",
              "Embarked         2\n",
              "dtype: int64"
            ],
            "text/html": [
              "<div>\n",
              "<style scoped>\n",
              "    .dataframe tbody tr th:only-of-type {\n",
              "        vertical-align: middle;\n",
              "    }\n",
              "\n",
              "    .dataframe tbody tr th {\n",
              "        vertical-align: top;\n",
              "    }\n",
              "\n",
              "    .dataframe thead th {\n",
              "        text-align: right;\n",
              "    }\n",
              "</style>\n",
              "<table border=\"1\" class=\"dataframe\">\n",
              "  <thead>\n",
              "    <tr style=\"text-align: right;\">\n",
              "      <th></th>\n",
              "      <th>0</th>\n",
              "    </tr>\n",
              "  </thead>\n",
              "  <tbody>\n",
              "    <tr>\n",
              "      <th>PassengerId</th>\n",
              "      <td>0</td>\n",
              "    </tr>\n",
              "    <tr>\n",
              "      <th>Survived</th>\n",
              "      <td>0</td>\n",
              "    </tr>\n",
              "    <tr>\n",
              "      <th>Pclass</th>\n",
              "      <td>0</td>\n",
              "    </tr>\n",
              "    <tr>\n",
              "      <th>Name</th>\n",
              "      <td>0</td>\n",
              "    </tr>\n",
              "    <tr>\n",
              "      <th>Sex</th>\n",
              "      <td>0</td>\n",
              "    </tr>\n",
              "    <tr>\n",
              "      <th>Age</th>\n",
              "      <td>177</td>\n",
              "    </tr>\n",
              "    <tr>\n",
              "      <th>SibSp</th>\n",
              "      <td>0</td>\n",
              "    </tr>\n",
              "    <tr>\n",
              "      <th>Parch</th>\n",
              "      <td>0</td>\n",
              "    </tr>\n",
              "    <tr>\n",
              "      <th>Ticket</th>\n",
              "      <td>0</td>\n",
              "    </tr>\n",
              "    <tr>\n",
              "      <th>Fare</th>\n",
              "      <td>0</td>\n",
              "    </tr>\n",
              "    <tr>\n",
              "      <th>Cabin</th>\n",
              "      <td>687</td>\n",
              "    </tr>\n",
              "    <tr>\n",
              "      <th>Embarked</th>\n",
              "      <td>2</td>\n",
              "    </tr>\n",
              "  </tbody>\n",
              "</table>\n",
              "</div><br><label><b>dtype:</b> int64</label>"
            ]
          },
          "metadata": {},
          "execution_count": 70
        }
      ]
    },
    {
      "cell_type": "code",
      "source": [
        "#drop columns useless for prediction\n",
        "df.drop([\"PassengerId\", \"Name\", \"Ticket\", \"Cabin\"], axis=1, inplace=True)"
      ],
      "metadata": {
        "id": "gl2ocf7EGthC"
      },
      "execution_count": 71,
      "outputs": []
    },
    {
      "cell_type": "code",
      "source": [
        "df[\"Age\"].hist(bins=30, color=\"skyblue\", edgecolor=\"black\")\n",
        "plt.show()"
      ],
      "metadata": {
        "colab": {
          "base_uri": "https://localhost:8080/",
          "height": 430
        },
        "id": "Q05QJQefICrc",
        "outputId": "df2e4a99-52ec-4269-c262-54b1c7f9591d"
      },
      "execution_count": 119,
      "outputs": [
        {
          "output_type": "display_data",
          "data": {
            "text/plain": [
              "<Figure size 640x480 with 1 Axes>"
            ],
            "image/png": "[encoded data removed]"
          },
          "metadata": {}
        }
      ]
    },
    {
      "cell_type": "code",
      "source": [
        "skewness = df[\"Age\"].skew()\n",
        "print(\"Skewness:\", skewness)\n",
        "mean = df[\"Age\"].mean()\n",
        "median = df[\"Age\"].median()\n",
        "print(\"Mean:\", mean)\n",
        "print(\"Median:\", median)"
      ],
      "metadata": {
        "colab": {
          "base_uri": "https://localhost:8080/"
        },
        "id": "Pn0CFDJbISSE",
        "outputId": "d9c862d8-e0ad-4a37-97e9-e5568f63ba91"
      },
      "execution_count": 73,
      "outputs": [
        {
          "output_type": "stream",
          "name": "stdout",
          "text": [
            "Skewness: 0.38910778230082704\n",
            "Mean: 29.69911764705882\n",
            "Median: 28.0\n"
          ]
        }
      ]
    },
    {
      "cell_type": "code",
      "source": [
        "# Input missing Age values with the median.\n",
        "df.fillna(df[\"Age\"].median(), inplace=True)\n",
        "# Fill missing Embarked values with the mode (\"S\"), as it's the most common value.\n",
        "df.fillna(df[\"Embarked\"].mode()[0], inplace=True)\n"
      ],
      "metadata": {
        "id": "a3IeZKIcIXm3"
      },
      "execution_count": 74,
      "outputs": []
    },
    {
      "cell_type": "code",
      "execution_count": 75,
      "metadata": {
        "id": "w-y1GKic-ztg"
      },
      "outputs": [],
      "source": [
        "# Categorical variables to numerical values\n",
        "df[\"Sex\"] = df[\"Sex\"].map({\"male\": 0, \"female\": 1})\n",
        "df[\"Embarked\"] = df[\"Embarked\"].map({\"S\": 0, \"C\": 1, \"Q\": 2})"
      ]
    },
    {
      "cell_type": "code",
      "source": [
        "# New feature \"FamilySize\"\n",
        "df.loc[:,\"FamilySize\"] = df[\"SibSp\"] + df[\"Parch\"] + 1\n",
        "df.drop([\"SibSp\", \"Parch\"], axis=1, inplace=True)"
      ],
      "metadata": {
        "id": "kXpM3MKMIl5D"
      },
      "execution_count": 76,
      "outputs": []
    },
    {
      "cell_type": "code",
      "source": [
        "# Finding duplicate rows\n",
        "int(df.duplicated().sum())"
      ],
      "metadata": {
        "colab": {
          "base_uri": "https://localhost:8080/"
        },
        "id": "_cSfEUvFIoxJ",
        "outputId": "fe0a2a4c-5068-4db1-888d-f552a8a75553"
      },
      "execution_count": 77,
      "outputs": [
        {
          "output_type": "execute_result",
          "data": {
            "text/plain": [
              "117"
            ]
          },
          "metadata": {},
          "execution_count": 77
        }
      ]
    },
    {
      "cell_type": "code",
      "source": [
        "# remove duplicate rows\n",
        "df.drop_duplicates(inplace=True)\n",
        "df.head()"
      ],
      "metadata": {
        "colab": {
          "base_uri": "https://localhost:8080/",
          "height": 206
        },
        "id": "gpp1wlG-IqGA",
        "outputId": "d2e06600-e1dd-467f-ff92-45543921de0e"
      },
      "execution_count": 78,
      "outputs": [
        {
          "output_type": "execute_result",
          "data": {
            "text/plain": [
              "   Survived  Pclass  Sex   Age     Fare  Embarked  FamilySize\n",
              "0         0       3    0  22.0   7.2500       0.0           2\n",
              "1         1       1    1  38.0  71.2833       1.0           2\n",
              "2         1       3    1  26.0   7.9250       0.0           1\n",
              "3         1       1    1  35.0  53.1000       0.0           2\n",
              "4         0       3    0  35.0   8.0500       0.0           1"
            ],
            "text/html": [
              "\n",
              "  <div id=\"df-880539c9-98dc-4051-8873-a84aa9d282b9\" class=\"colab-df-container\">\n",
              "    <div>\n",
              "<style scoped>\n",
              "    .dataframe tbody tr th:only-of-type {\n",
              "        vertical-align: middle;\n",
              "    }\n",
              "\n",
              "    .dataframe tbody tr th {\n",
              "        vertical-align: top;\n",
              "    }\n",
              "\n",
              "    .dataframe thead th {\n",
              "        text-align: right;\n",
              "    }\n",
              "</style>\n",
              "<table border=\"1\" class=\"dataframe\">\n",
              "  <thead>\n",
              "    <tr style=\"text-align: right;\">\n",
              "      <th></th>\n",
              "      <th>Survived</th>\n",
              "      <th>Pclass</th>\n",
              "      <th>Sex</th>\n",
              "      <th>Age</th>\n",
              "      <th>Fare</th>\n",
              "      <th>Embarked</th>\n",
              "      <th>FamilySize</th>\n",
              "    </tr>\n",
              "  </thead>\n",
              "  <tbody>\n",
              "    <tr>\n",
              "      <th>0</th>\n",
              "      <td>0</td>\n",
              "      <td>3</td>\n",
              "      <td>0</td>\n",
              "      <td>22.0</td>\n",
              "      <td>7.2500</td>\n",
              "      <td>0.0</td>\n",
              "      <td>2</td>\n",
              "    </tr>\n",
              "    <tr>\n",
              "      <th>1</th>\n",
              "      <td>1</td>\n",
              "      <td>1</td>\n",
              "      <td>1</td>\n",
              "      <td>38.0</td>\n",
              "      <td>71.2833</td>\n",
              "      <td>1.0</td>\n",
              "      <td>2</td>\n",
              "    </tr>\n",
              "    <tr>\n",
              "      <th>2</th>\n",
              "      <td>1</td>\n",
              "      <td>3</td>\n",
              "      <td>1</td>\n",
              "      <td>26.0</td>\n",
              "      <td>7.9250</td>\n",
              "      <td>0.0</td>\n",
              "      <td>1</td>\n",
              "    </tr>\n",
              "    <tr>\n",
              "      <th>3</th>\n",
              "      <td>1</td>\n",
              "      <td>1</td>\n",
              "      <td>1</td>\n",
              "      <td>35.0</td>\n",
              "      <td>53.1000</td>\n",
              "      <td>0.0</td>\n",
              "      <td>2</td>\n",
              "    </tr>\n",
              "    <tr>\n",
              "      <th>4</th>\n",
              "      <td>0</td>\n",
              "      <td>3</td>\n",
              "      <td>0</td>\n",
              "      <td>35.0</td>\n",
              "      <td>8.0500</td>\n",
              "      <td>0.0</td>\n",
              "      <td>1</td>\n",
              "    </tr>\n",
              "  </tbody>\n",
              "</table>\n",
              "</div>\n",
              "    <div class=\"colab-df-buttons\">\n",
              "\n",
              "  <div class=\"colab-df-container\">\n",
              "    <button class=\"colab-df-convert\" onclick=\"convertToInteractive('df-880539c9-98dc-4051-8873-a84aa9d282b9')\"\n",
              "            title=\"Convert this dataframe to an interactive table.\"\n",
              "            style=\"display:none;\">\n",
              "\n",
              "  <svg xmlns=\"http://www.w3.org/2000/svg\" height=\"24px\" viewBox=\"0 -960 960 960\">\n",
              "    <path d=\"M120-120v-720h720v720H120Zm60-500h600v-160H180v160Zm220 220h160v-160H400v160Zm0 220h160v-160H400v160ZM180-400h160v-160H180v160Zm440 0h160v-160H620v160ZM180-180h160v-160H180v160Zm440 0h160v-160H620v160Z\"/>\n",
              "  </svg>\n",
              "    </button>\n",
              "\n",
              "  <style>\n",
              "    .colab-df-container {\n",
              "      display:flex;\n",
              "      gap: 12px;\n",
              "    }\n",
              "\n",
              "    .colab-df-convert {\n",
              "      background-color: #E8F0FE;\n",
              "      border: none;\n",
              "      border-radius: 50%;\n",
              "      cursor: pointer;\n",
              "      display: none;\n",
              "      fill: #1967D2;\n",
              "      height: 32px;\n",
              "      padding: 0 0 0 0;\n",
              "      width: 32px;\n",
              "    }\n",
              "\n",
              "    .colab-df-convert:hover {\n",
              "      background-color: #E2EBFA;\n",
              "      box-shadow: 0px 1px 2px rgba(60, 64, 67, 0.3), 0px 1px 3px 1px rgba(60, 64, 67, 0.15);\n",
              "      fill: #174EA6;\n",
              "    }\n",
              "\n",
              "    .colab-df-buttons div {\n",
              "      margin-bottom: 4px;\n",
              "    }\n",
              "\n",
              "    [theme=dark] .colab-df-convert {\n",
              "      background-color: #3B4455;\n",
              "      fill: #D2E3FC;\n",
              "    }\n",
              "\n",
              "    [theme=dark] .colab-df-convert:hover {\n",
              "      background-color: #434B5C;\n",
              "      box-shadow: 0px 1px 3px 1px rgba(0, 0, 0, 0.15);\n",
              "      filter: drop-shadow(0px 1px 2px rgba(0, 0, 0, 0.3));\n",
              "      fill: #FFFFFF;\n",
              "    }\n",
              "  </style>\n",
              "\n",
              "    <script>\n",
              "      const buttonEl =\n",
              "        document.querySelector('#df-880539c9-98dc-4051-8873-a84aa9d282b9 button.colab-df-convert');\n",
              "      buttonEl.style.display =\n",
              "        google.colab.kernel.accessAllowed ? 'block' : 'none';\n",
              "\n",
              "      async function convertToInteractive(key) {\n",
              "        const element = document.querySelector('#df-880539c9-98dc-4051-8873-a84aa9d282b9');\n",
              "        const dataTable =\n",
              "          await google.colab.kernel.invokeFunction('convertToInteractive',\n",
              "                                                    [key], {});\n",
              "        if (!dataTable) return;\n",
              "\n",
              "        const docLinkHtml = 'Like what you see? Visit the ' +\n",
              "          '<a target=\"_blank\" href=https://colab.research.google.com/notebooks/data_table.ipynb>data table notebook</a>'\n",
              "          + ' to learn more about interactive tables.';\n",
              "        element.innerHTML = '';\n",
              "        dataTable['output_type'] = 'display_data';\n",
              "        await google.colab.output.renderOutput(dataTable, element);\n",
              "        const docLink = document.createElement('div');\n",
              "        docLink.innerHTML = docLinkHtml;\n",
              "        element.appendChild(docLink);\n",
              "      }\n",
              "    </script>\n",
              "  </div>\n",
              "\n",
              "\n",
              "<div id=\"df-142daadf-299b-4faf-a7b4-54e8ab8522d1\">\n",
              "  <button class=\"colab-df-quickchart\" onclick=\"quickchart('df-142daadf-299b-4faf-a7b4-54e8ab8522d1')\"\n",
              "            title=\"Suggest charts\"\n",
              "            style=\"display:none;\">\n",
              "\n",
              "<svg xmlns=\"http://www.w3.org/2000/svg\" height=\"24px\"viewBox=\"0 0 24 24\"\n",
              "     width=\"24px\">\n",
              "    <g>\n",
              "        <path d=\"M19 3H5c-1.1 0-2 .9-2 2v14c0 1.1.9 2 2 2h14c1.1 0 2-.9 2-2V5c0-1.1-.9-2-2-2zM9 17H7v-7h2v7zm4 0h-2V7h2v10zm4 0h-2v-4h2v4z\"/>\n",
              "    </g>\n",
              "</svg>\n",
              "  </button>\n",
              "\n",
              "<style>\n",
              "  .colab-df-quickchart {\n",
              "      --bg-color: #E8F0FE;\n",
              "      --fill-color: #1967D2;\n",
              "      --hover-bg-color: #E2EBFA;\n",
              "      --hover-fill-color: #174EA6;\n",
              "      --disabled-fill-color: #AAA;\n",
              "      --disabled-bg-color: #DDD;\n",
              "  }\n",
              "\n",
              "  [theme=dark] .colab-df-quickchart {\n",
              "      --bg-color: #3B4455;\n",
              "      --fill-color: #D2E3FC;\n",
              "      --hover-bg-color: #434B5C;\n",
              "      --hover-fill-color: #FFFFFF;\n",
              "      --disabled-bg-color: #3B4455;\n",
              "      --disabled-fill-color: #666;\n",
              "  }\n",
              "\n",
              "  .colab-df-quickchart {\n",
              "    background-color: var(--bg-color);\n",
              "    border: none;\n",
              "    border-radius: 50%;\n",
              "    cursor: pointer;\n",
              "    display: none;\n",
              "    fill: var(--fill-color);\n",
              "    height: 32px;\n",
              "    padding: 0;\n",
              "    width: 32px;\n",
              "  }\n",
              "\n",
              "  .colab-df-quickchart:hover {\n",
              "    background-color: var(--hover-bg-color);\n",
              "    box-shadow: 0 1px 2px rgba(60, 64, 67, 0.3), 0 1px 3px 1px rgba(60, 64, 67, 0.15);\n",
              "    fill: var(--button-hover-fill-color);\n",
              "  }\n",
              "\n",
              "  .colab-df-quickchart-complete:disabled,\n",
              "  .colab-df-quickchart-complete:disabled:hover {\n",
              "    background-color: var(--disabled-bg-color);\n",
              "    fill: var(--disabled-fill-color);\n",
              "    box-shadow: none;\n",
              "  }\n",
              "\n",
              "  .colab-df-spinner {\n",
              "    border: 2px solid var(--fill-color);\n",
              "    border-color: transparent;\n",
              "    border-bottom-color: var(--fill-color);\n",
              "    animation:\n",
              "      spin 1s steps(1) infinite;\n",
              "  }\n",
              "\n",
              "  @keyframes spin {\n",
              "    0% {\n",
              "      border-color: transparent;\n",
              "      border-bottom-color: var(--fill-color);\n",
              "      border-left-color: var(--fill-color);\n",
              "    }\n",
              "    20% {\n",
              "      border-color: transparent;\n",
              "      border-left-color: var(--fill-color);\n",
              "      border-top-color: var(--fill-color);\n",
              "    }\n",
              "    30% {\n",
              "      border-color: transparent;\n",
              "      border-left-color: var(--fill-color);\n",
              "      border-top-color: var(--fill-color);\n",
              "      border-right-color: var(--fill-color);\n",
              "    }\n",
              "    40% {\n",
              "      border-color: transparent;\n",
              "      border-right-color: var(--fill-color);\n",
              "      border-top-color: var(--fill-color);\n",
              "    }\n",
              "    60% {\n",
              "      border-color: transparent;\n",
              "      border-right-color: var(--fill-color);\n",
              "    }\n",
              "    80% {\n",
              "      border-color: transparent;\n",
              "      border-right-color: var(--fill-color);\n",
              "      border-bottom-color: var(--fill-color);\n",
              "    }\n",
              "    90% {\n",
              "      border-color: transparent;\n",
              "      border-bottom-color: var(--fill-color);\n",
              "    }\n",
              "  }\n",
              "</style>\n",
              "\n",
              "  <script>\n",
              "    async function quickchart(key) {\n",
              "      const quickchartButtonEl =\n",
              "        document.querySelector('#' + key + ' button');\n",
              "      quickchartButtonEl.disabled = true;  // To prevent multiple clicks.\n",
              "      quickchartButtonEl.classList.add('colab-df-spinner');\n",
              "      try {\n",
              "        const charts = await google.colab.kernel.invokeFunction(\n",
              "            'suggestCharts', [key], {});\n",
              "      } catch (error) {\n",
              "        console.error('Error during call to suggestCharts:', error);\n",
              "      }\n",
              "      quickchartButtonEl.classList.remove('colab-df-spinner');\n",
              "      quickchartButtonEl.classList.add('colab-df-quickchart-complete');\n",
              "    }\n",
              "    (() => {\n",
              "      let quickchartButtonEl =\n",
              "        document.querySelector('#df-142daadf-299b-4faf-a7b4-54e8ab8522d1 button');\n",
              "      quickchartButtonEl.style.display =\n",
              "        google.colab.kernel.accessAllowed ? 'block' : 'none';\n",
              "    })();\n",
              "  </script>\n",
              "</div>\n",
              "\n",
              "    </div>\n",
              "  </div>\n"
            ],
            "application/vnd.google.colaboratory.intrinsic+json": {
              "type": "dataframe",
              "variable_name": "df",
              "summary": "{\n  \"name\": \"df\",\n  \"rows\": 774,\n  \"fields\": [\n    {\n      \"column\": \"Survived\",\n      \"properties\": {\n        \"dtype\": \"number\",\n        \"std\": 0,\n        \"min\": 0,\n        \"max\": 1,\n        \"num_unique_values\": 2,\n        \"samples\": [\n          1,\n          0\n        ],\n        \"semantic_type\": \"\",\n        \"description\": \"\"\n      }\n    },\n    {\n      \"column\": \"Pclass\",\n      \"properties\": {\n        \"dtype\": \"number\",\n        \"std\": 0,\n        \"min\": 1,\n        \"max\": 3,\n        \"num_unique_values\": 3,\n        \"samples\": [\n          3,\n          1\n        ],\n        \"semantic_type\": \"\",\n        \"description\": \"\"\n      }\n    },\n    {\n      \"column\": \"Sex\",\n      \"properties\": {\n        \"dtype\": \"number\",\n        \"std\": 0,\n        \"min\": 0,\n        \"max\": 1,\n        \"num_unique_values\": 2,\n        \"samples\": [\n          1,\n          0\n        ],\n        \"semantic_type\": \"\",\n        \"description\": \"\"\n      }\n    },\n    {\n      \"column\": \"Age\",\n      \"properties\": {\n        \"dtype\": \"number\",\n        \"std\": 13.775142616592309,\n        \"min\": 0.42,\n        \"max\": 80.0,\n        \"num_unique_values\": 88,\n        \"samples\": [\n          0.75,\n          22.0\n        ],\n        \"semantic_type\": \"\",\n        \"description\": \"\"\n      }\n    },\n    {\n      \"column\": \"Fare\",\n      \"properties\": {\n        \"dtype\": \"number\",\n        \"std\": 52.44042602427066,\n        \"min\": 0.0,\n        \"max\": 512.3292,\n        \"num_unique_values\": 248,\n        \"samples\": [\n          11.2417,\n          51.8625\n        ],\n        \"semantic_type\": \"\",\n        \"description\": \"\"\n      }\n    },\n    {\n      \"column\": \"Embarked\",\n      \"properties\": {\n        \"dtype\": \"number\",\n        \"std\": 0.6149562090285269,\n        \"min\": 0.0,\n        \"max\": 2.0,\n        \"num_unique_values\": 3,\n        \"samples\": [\n          0.0,\n          1.0\n        ],\n        \"semantic_type\": \"\",\n        \"description\": \"\"\n      }\n    },\n    {\n      \"column\": \"FamilySize\",\n      \"properties\": {\n        \"dtype\": \"number\",\n        \"std\": 1,\n        \"min\": 1,\n        \"max\": 11,\n        \"num_unique_values\": 9,\n        \"samples\": [\n          8,\n          1\n        ],\n        \"semantic_type\": \"\",\n        \"description\": \"\"\n      }\n    }\n  ]\n}"
            }
          },
          "metadata": {},
          "execution_count": 78
        }
      ]
    },
    {
      "cell_type": "code",
      "source": [
        "df.isnull().sum()"
      ],
      "metadata": {
        "colab": {
          "base_uri": "https://localhost:8080/",
          "height": 304
        },
        "id": "j5rTjuz0I0xx",
        "outputId": "30664ba9-e13c-40a2-c4ce-83606a5e8572"
      },
      "execution_count": 79,
      "outputs": [
        {
          "output_type": "execute_result",
          "data": {
            "text/plain": [
              "Survived      0\n",
              "Pclass        0\n",
              "Sex           0\n",
              "Age           0\n",
              "Fare          0\n",
              "Embarked      2\n",
              "FamilySize    0\n",
              "dtype: int64"
            ],
            "text/html": [
              "<div>\n",
              "<style scoped>\n",
              "    .dataframe tbody tr th:only-of-type {\n",
              "        vertical-align: middle;\n",
              "    }\n",
              "\n",
              "    .dataframe tbody tr th {\n",
              "        vertical-align: top;\n",
              "    }\n",
              "\n",
              "    .dataframe thead th {\n",
              "        text-align: right;\n",
              "    }\n",
              "</style>\n",
              "<table border=\"1\" class=\"dataframe\">\n",
              "  <thead>\n",
              "    <tr style=\"text-align: right;\">\n",
              "      <th></th>\n",
              "      <th>0</th>\n",
              "    </tr>\n",
              "  </thead>\n",
              "  <tbody>\n",
              "    <tr>\n",
              "      <th>Survived</th>\n",
              "      <td>0</td>\n",
              "    </tr>\n",
              "    <tr>\n",
              "      <th>Pclass</th>\n",
              "      <td>0</td>\n",
              "    </tr>\n",
              "    <tr>\n",
              "      <th>Sex</th>\n",
              "      <td>0</td>\n",
              "    </tr>\n",
              "    <tr>\n",
              "      <th>Age</th>\n",
              "      <td>0</td>\n",
              "    </tr>\n",
              "    <tr>\n",
              "      <th>Fare</th>\n",
              "      <td>0</td>\n",
              "    </tr>\n",
              "    <tr>\n",
              "      <th>Embarked</th>\n",
              "      <td>2</td>\n",
              "    </tr>\n",
              "    <tr>\n",
              "      <th>FamilySize</th>\n",
              "      <td>0</td>\n",
              "    </tr>\n",
              "  </tbody>\n",
              "</table>\n",
              "</div><br><label><b>dtype:</b> int64</label>"
            ]
          },
          "metadata": {},
          "execution_count": 79
        }
      ]
    },
    {
      "cell_type": "code",
      "source": [
        "df.fillna(df[\"Embarked\"].mode()[0], inplace=True)\n",
        "df.isnull().sum()"
      ],
      "metadata": {
        "colab": {
          "base_uri": "https://localhost:8080/",
          "height": 304
        },
        "id": "N-CCfR4yI4Py",
        "outputId": "4645fa3f-9c4d-447f-cca2-8f45f1e810c4"
      },
      "execution_count": 81,
      "outputs": [
        {
          "output_type": "execute_result",
          "data": {
            "text/plain": [
              "Survived      0\n",
              "Pclass        0\n",
              "Sex           0\n",
              "Age           0\n",
              "Fare          0\n",
              "Embarked      0\n",
              "FamilySize    0\n",
              "dtype: int64"
            ],
            "text/html": [
              "<div>\n",
              "<style scoped>\n",
              "    .dataframe tbody tr th:only-of-type {\n",
              "        vertical-align: middle;\n",
              "    }\n",
              "\n",
              "    .dataframe tbody tr th {\n",
              "        vertical-align: top;\n",
              "    }\n",
              "\n",
              "    .dataframe thead th {\n",
              "        text-align: right;\n",
              "    }\n",
              "</style>\n",
              "<table border=\"1\" class=\"dataframe\">\n",
              "  <thead>\n",
              "    <tr style=\"text-align: right;\">\n",
              "      <th></th>\n",
              "      <th>0</th>\n",
              "    </tr>\n",
              "  </thead>\n",
              "  <tbody>\n",
              "    <tr>\n",
              "      <th>Survived</th>\n",
              "      <td>0</td>\n",
              "    </tr>\n",
              "    <tr>\n",
              "      <th>Pclass</th>\n",
              "      <td>0</td>\n",
              "    </tr>\n",
              "    <tr>\n",
              "      <th>Sex</th>\n",
              "      <td>0</td>\n",
              "    </tr>\n",
              "    <tr>\n",
              "      <th>Age</th>\n",
              "      <td>0</td>\n",
              "    </tr>\n",
              "    <tr>\n",
              "      <th>Fare</th>\n",
              "      <td>0</td>\n",
              "    </tr>\n",
              "    <tr>\n",
              "      <th>Embarked</th>\n",
              "      <td>0</td>\n",
              "    </tr>\n",
              "    <tr>\n",
              "      <th>FamilySize</th>\n",
              "      <td>0</td>\n",
              "    </tr>\n",
              "  </tbody>\n",
              "</table>\n",
              "</div><br><label><b>dtype:</b> int64</label>"
            ]
          },
          "metadata": {},
          "execution_count": 81
        }
      ]
    },
    {
      "cell_type": "markdown",
      "source": [
        "Train test and standard scaling in dataset:"
      ],
      "metadata": {
        "id": "J8n01IY1JCLd"
      }
    },
    {
      "cell_type": "code",
      "source": [
        "X = df.drop(\"Pclass\", axis=1).values\n",
        "y = df[\"Pclass\"].values"
      ],
      "metadata": {
        "id": "5_IUpST5I_9F"
      },
      "execution_count": 82,
      "outputs": []
    },
    {
      "cell_type": "code",
      "source": [
        "# One-hot encode the target variable\n",
        "from sklearn.preprocessing import OneHotEncoder\n",
        "\n",
        "encoder = OneHotEncoder(sparse_output=False)\n",
        "y_onehot = encoder.fit_transform(y.reshape(-1, 1))\n",
        "y_onehot"
      ],
      "metadata": {
        "colab": {
          "base_uri": "https://localhost:8080/"
        },
        "id": "u1XOaAYGJLTG",
        "outputId": "9fa097cc-4ecf-44b3-94c1-e5531fa9a853"
      },
      "execution_count": 83,
      "outputs": [
        {
          "output_type": "execute_result",
          "data": {
            "text/plain": [
              "array([[0., 0., 1.],\n",
              "       [1., 0., 0.],\n",
              "       [0., 0., 1.],\n",
              "       ...,\n",
              "       [0., 0., 1.],\n",
              "       [1., 0., 0.],\n",
              "       [0., 0., 1.]])"
            ]
          },
          "metadata": {},
          "execution_count": 83
        }
      ]
    },
    {
      "cell_type": "code",
      "source": [
        "# Split the data into training and test sets\n",
        "X_train, X_test, y_train, y_test = train_test_split(X, y_onehot, test_size=0.3, random_state=42, stratify=y)"
      ],
      "metadata": {
        "id": "h19LEo-FJNFp"
      },
      "execution_count": 84,
      "outputs": []
    },
    {
      "cell_type": "markdown",
      "source": [
        "Standard scaling"
      ],
      "metadata": {
        "id": "W0Pf0AxuJROc"
      }
    },
    {
      "cell_type": "code",
      "source": [
        "# Initialize the scaler and scale the data\n",
        "scaler = StandardScaler()\n",
        "X_train_scaled = scaler.fit_transform(X_train)\n",
        "X_test_scaled = scaler.transform(X_test)\n",
        "# Assertions to check the shape of X_train_scaled and X_test_scaled\n",
        "assert X_train_scaled.shape == (X_train.shape[0], X_train.shape[1]), f\"X_train_scaled shape mismatch: {X_train_scaled.shape}\"\n",
        "assert X_test_scaled.shape == (X_test.shape[0], X_test.shape[1]), f\"X_test_scaled shape mismatch: {X_test_scaled.shape}\"\n",
        "print(\"Shape assertions passed!\")"
      ],
      "metadata": {
        "colab": {
          "base_uri": "https://localhost:8080/"
        },
        "id": "GOhPCTaCJTbK",
        "outputId": "3fc6ef97-4e96-45da-e687-0812200daf87"
      },
      "execution_count": 87,
      "outputs": [
        {
          "output_type": "stream",
          "name": "stdout",
          "text": [
            "Shape assertions passed!\n"
          ]
        }
      ]
    },
    {
      "cell_type": "markdown",
      "source": [
        "Initializing parameters and hyperparameters:"
      ],
      "metadata": {
        "id": "hnD_tWsiJgAo"
      }
    },
    {
      "cell_type": "code",
      "source": [
        "# Intitalizations:\n",
        "num_classes = y_train.shape[1]\n",
        "num_features = X_train_scaled.shape[1]\n",
        "W = np.zeros((num_features, num_classes))\n",
        "b = np.zeros(num_classes)\n",
        "alpha = 0.1\n",
        "n_iter = 1000"
      ],
      "metadata": {
        "id": "-iBco7rsJWdQ"
      },
      "execution_count": 88,
      "outputs": []
    },
    {
      "cell_type": "markdown",
      "source": [
        "Start Training:"
      ],
      "metadata": {
        "id": "W3ymySN1JqxP"
      }
    },
    {
      "cell_type": "code",
      "source": [
        "print(\"Training Softmax Regression Model:\")\n",
        "W, b, cost_history = gradient_descent_softmax(X_train_scaled, y_train, W, b, alpha, n_iter, show_cost=True)"
      ],
      "metadata": {
        "colab": {
          "base_uri": "https://localhost:8080/"
        },
        "id": "GGUAsHBdJo-l",
        "outputId": "efc3af87-ba06-45e4-950e-380222bc410c"
      },
      "execution_count": 89,
      "outputs": [
        {
          "output_type": "stream",
          "name": "stdout",
          "text": [
            "Training Softmax Regression Model:\n",
            "Iteration 0: Cost = 1.070208\n",
            "Iteration 100: Cost = 0.636439\n",
            "Iteration 200: Cost = 0.590986\n",
            "Iteration 300: Cost = 0.568292\n",
            "Iteration 400: Cost = 0.553687\n",
            "Iteration 500: Cost = 0.543165\n",
            "Iteration 600: Cost = 0.535074\n",
            "Iteration 700: Cost = 0.528580\n",
            "Iteration 800: Cost = 0.523211\n",
            "Iteration 900: Cost = 0.518674\n",
            "Iteration 999: Cost = 0.514815\n"
          ]
        }
      ]
    },
    {
      "cell_type": "markdown",
      "source": [
        "Observation of cost history"
      ],
      "metadata": {
        "id": "bCyDMBCRJ2cC"
      }
    },
    {
      "cell_type": "code",
      "source": [
        "#Plot Cost Vs. Iterations:\n",
        "plt.figure(figsize=(9, 6))\n",
        "plt.plot(cost_history)\n",
        "plt.xlabel(\"Iteration\", fontsize=14)\n",
        "plt.ylabel(\"Cost\", fontsize=14)\n",
        "plt.title(\"Cost vs Iteration\", fontsize=14)\n",
        "plt.tight_layout()\n",
        "plt.show()\n",
        "plt.show()"
      ],
      "metadata": {
        "colab": {
          "base_uri": "https://localhost:8080/",
          "height": 607
        },
        "id": "d4q0d6F4Jxxo",
        "outputId": "c92f354e-6223-458c-92c0-f03a8b6e5dd2"
      },
      "execution_count": 90,
      "outputs": [
        {
          "output_type": "display_data",
          "data": {
            "text/plain": [
              "<Figure size 900x600 with 1 Axes>"
            ],
            "image/png": "[encoded data removed]"
          },
          "metadata": {}
        }
      ]
    },
    {
      "cell_type": "markdown",
      "source": [
        "Model overfit check:"
      ],
      "metadata": {
        "id": "oLR-P7MRJ_1Y"
      }
    },
    {
      "cell_type": "code",
      "source": [
        "# Test model\n",
        "y_train_pred = predict_softmax(X_train_scaled, W, b)\n",
        "y_test_pred = predict_softmax(X_test_scaled, W, b)\n",
        "# Evaluate train and test performance\n",
        "train_cost = cost_softmax(X_train_scaled, y_train, W, b)\n",
        "test_cost = cost_softmax(X_test_scaled, y_test, W, b)\n",
        "print(f\"\\nTrain Loss (Cost): {train_cost:.4f}\")\n",
        "print(f\"Test Loss (Cost): {test_cost:.4f}\")"
      ],
      "metadata": {
        "colab": {
          "base_uri": "https://localhost:8080/"
        },
        "id": "pgre9Pr1J7kj",
        "outputId": "aecacd14-caff-4c0d-f2a2-0d44cdaf2d21"
      },
      "execution_count": 91,
      "outputs": [
        {
          "output_type": "stream",
          "name": "stdout",
          "text": [
            "\n",
            "Train Loss (Cost): 0.5148\n",
            "Test Loss (Cost): 0.5412\n"
          ]
        }
      ]
    },
    {
      "cell_type": "code",
      "source": [
        "# Convert one-hot encoded y_test back to class labels\n",
        "y_test_labels = np.argmax(y_test, axis=1)"
      ],
      "metadata": {
        "id": "-JoJhfhsKGmZ"
      },
      "execution_count": 92,
      "outputs": []
    },
    {
      "cell_type": "markdown",
      "source": [
        "Model accuracy test:"
      ],
      "metadata": {
        "id": "v_4uD1cRKLzc"
      }
    },
    {
      "cell_type": "code",
      "source": [
        "# Accuracy on test data\n",
        "test_accuracy = np.mean(y_test_pred == y_test_labels) * 100\n",
        "print(f\"Test Accuracy: {test_accuracy:.2f}%\")\n",
        "# Evaluation\n",
        "y_test_true = np.argmax(y_test, axis=1)\n",
        "confusion_matrix, precision, recall, f1 = evaluate_classification(y_test_true, y_test_pred)\n",
        "print(\"Confusion Matrix:\")\n",
        "print(confusion_matrix)\n",
        "print(f\"Precision: {precision:.2f}\")\n",
        "print(f\"Recall: {recall:.2f}\")\n",
        "print(f\"F1-Score: {f1:.2f}\")"
      ],
      "metadata": {
        "colab": {
          "base_uri": "https://localhost:8080/"
        },
        "id": "7dktwpueKNWl",
        "outputId": "fcd5b12a-5e5f-4411-ee43-d17ca5c036b8"
      },
      "execution_count": 95,
      "outputs": [
        {
          "output_type": "stream",
          "name": "stdout",
          "text": [
            "Test Accuracy: 78.54%\n",
            "Confusion Matrix:\n",
            "[[ 52   2   9]\n",
            " [  7  16  26]\n",
            " [  2   4 115]]\n",
            "Precision: 0.78\n",
            "Recall: 0.79\n",
            "F1-Score: 0.76\n"
          ]
        }
      ]
    },
    {
      "cell_type": "markdown",
      "source": [
        "Confusion matrix visualization:"
      ],
      "metadata": {
        "id": "a2_ld5ClKaRC"
      }
    },
    {
      "cell_type": "code",
      "source": [
        "import matplotlib.pyplot as plt\n",
        "import numpy as np\n",
        "\n",
        "# Example confusion matrix\n",
        "confusion_matrix = np.array([[50, 2, 1],\n",
        "                              [5, 45, 3],\n",
        "                              [2, 1, 52]])\n",
        "\n",
        "# Plot the confusion matrix\n",
        "plt.figure(figsize=(6, 6))\n",
        "plt.imshow(confusion_matrix, cmap=\"Pastel2\")\n",
        "\n",
        "# Set tick labels\n",
        "plt.xticks(range(3), [\"Predicted 0\", \"Predicted 1\", \"Predicted 2\"])\n",
        "plt.yticks(range(3), [\"Actual 0\", \"Actual 1\", \"Actual 2\"])\n",
        "\n",
        "# Add text labels inside cells\n",
        "for i in range(3):\n",
        "    for j in range(3):\n",
        "        plt.text(j, i, confusion_matrix[i, j], ha=\"center\",\n",
        "                 color=\"black\" if confusion_matrix[i, j] > np.max(confusion_matrix) / 2 else \"green\")\n",
        "\n",
        "plt.title(\"Confusion Matrix\")\n",
        "plt.xlabel(\"Predicted Label\")\n",
        "plt.ylabel(\"Actual Label\")\n",
        "plt.tight_layout()\n",
        "plt.show()"
      ],
      "metadata": {
        "colab": {
          "base_uri": "https://localhost:8080/",
          "height": 587
        },
        "id": "TIIV0vaRKSsJ",
        "outputId": "ada322f2-08bf-4ab5-f411-e205df22d831"
      },
      "execution_count": 121,
      "outputs": [
        {
          "output_type": "display_data",
          "data": {
            "text/plain": [
              "<Figure size 600x600 with 1 Axes>"
            ],
            "image/png": "[encoded data removed]"
          },
          "metadata": {}
        }
      ]
    }
  ]
}