{
  "cells": [
    {
      "cell_type": "code",
      "execution_count": null,
      "metadata": {
        "colab": {
          "base_uri": "https://localhost:8080/"
        },
        "id": "g7DZj7zWk6vc",
        "outputId": "14dbfc62-a08b-4091-9995-ecaa96a020ea"
      },
      "outputs": [
        {
          "name": "stdout",
          "output_type": "stream",
          "text": [
            "[[4.84442705e-310 0.00000000e+000]\n",
            " [4.84324875e-310 6.88881037e-310]]\n"
          ]
        }
      ],
      "source": [
        "import numpy as np\n",
        "\n",
        "empty_array = np.empty((2,2))\n",
        "print(empty_array)"
      ]
    },
    {
      "cell_type": "code",
      "execution_count": null,
      "metadata": {
        "colab": {
          "base_uri": "https://localhost:8080/"
        },
        "id": "kuTYyQUv4IsM",
        "outputId": "121e4529-e74b-4688-9781-f1e1e2c9cebc"
      },
      "outputs": [
        {
          "name": "stdout",
          "output_type": "stream",
          "text": [
            "[[1. 1.]\n",
            " [1. 1.]\n",
            " [1. 1.]\n",
            " [1. 1.]]\n"
          ]
        }
      ],
      "source": [
        "import numpy as np\n",
        "\n",
        "ones_array = np.ones((4, 2))\n",
        "print(ones_array)"
      ]
    },
    {
      "cell_type": "code",
      "execution_count": null,
      "metadata": {
        "colab": {
          "base_uri": "https://localhost:8080/"
        },
        "id": "4qGrZQ-P5RIQ",
        "outputId": "ee6bfbf2-99ef-4aa2-cd25-615e2f62294c"
      },
      "outputs": [
        {
          "name": "stdout",
          "output_type": "stream",
          "text": [
            "[[9 9 9 9 9]\n",
            " [9 9 9 9 9]\n",
            " [9 9 9 9 9]]\n"
          ]
        }
      ],
      "source": [
        "import numpy as np\n",
        "\n",
        "filled_array = np.full((3, 5), 9)\n",
        "print(filled_array)"
      ]
    },
    {
      "cell_type": "code",
      "execution_count": null,
      "metadata": {
        "colab": {
          "base_uri": "https://localhost:8080/"
        },
        "id": "HjpbFDGo5ikZ",
        "outputId": "1c43d050-45d7-46bc-a516-9d5df424296e"
      },
      "outputs": [
        {
          "name": "stdout",
          "output_type": "stream",
          "text": [
            "[[0 0]\n",
            " [0 0]\n",
            " [0 0]]\n"
          ]
        }
      ],
      "source": [
        "import numpy as np\n",
        "\n",
        "original_array = np.array([[1, 2], [3, 4], [5,6]])\n",
        "\n",
        "zeros_array = np.zeros_like(original_array)\n",
        "print(zeros_array)"
      ]
    },
    {
      "cell_type": "code",
      "execution_count": null,
      "metadata": {
        "colab": {
          "base_uri": "https://localhost:8080/"
        },
        "id": "wCPkkfvG6BJ4",
        "outputId": "4d85d4db-d8a6-40fe-8e4a-8b9325e0f950"
      },
      "outputs": [
        {
          "name": "stdout",
          "output_type": "stream",
          "text": [
            "[[1 1]\n",
            " [1 1]]\n"
          ]
        }
      ],
      "source": [
        "import numpy as np\n",
        "\n",
        "original_array = np.array([[1, 2], [3, 4]])\n",
        "\n",
        "ones_array = np.ones_like(original_array)\n",
        "print(ones_array)"
      ]
    },
    {
      "cell_type": "code",
      "execution_count": null,
      "metadata": {
        "colab": {
          "base_uri": "https://localhost:8080/"
        },
        "id": "Ugju957x6ddv",
        "outputId": "15194920-195d-4251-cf24-dec15e283d3a"
      },
      "outputs": [
        {
          "name": "stdout",
          "output_type": "stream",
          "text": [
            "[1 2 3 4]\n"
          ]
        }
      ],
      "source": [
        "import numpy as np\n",
        "\n",
        "new_list = [1, 2, 3, 4]\n",
        "\n",
        "numpy_array = np.array(new_list)\n",
        "print(numpy_array)\n"
      ]
    },
    {
      "cell_type": "code",
      "execution_count": null,
      "metadata": {
        "colab": {
          "base_uri": "https://localhost:8080/"
        },
        "id": "zHNgM-1S8td_",
        "outputId": "9ca385d3-d559-4e84-bd25-c6511881c1c6"
      },
      "outputs": [
        {
          "name": "stdout",
          "output_type": "stream",
          "text": [
            "[10 11 12 13 14 15 16 17 18 19 20 21 22 23 24 25 26 27 28 29 30 31 32 33\n",
            " 34 35 36 37 38 39 40 41 42 43 44 45 46 47 48 49]\n"
          ]
        }
      ],
      "source": [
        "import numpy as np\n",
        "\n",
        "array_range = np.arange(10, 50)\n",
        "print(array_range)"
      ]
    },
    {
      "cell_type": "code",
      "execution_count": null,
      "metadata": {
        "colab": {
          "base_uri": "https://localhost:8080/"
        },
        "id": "Yl9Jt5669yqn",
        "outputId": "9c48d612-722b-403d-d210-dc3f9919b45b"
      },
      "outputs": [
        {
          "name": "stdout",
          "output_type": "stream",
          "text": [
            "[[0 1 2]\n",
            " [3 4 5]\n",
            " [6 7 8]]\n"
          ]
        }
      ],
      "source": [
        "import numpy as np\n",
        "\n",
        "matrix3x3 = np.arange(9).reshape(3,3)\n",
        "print(matrix3x3)"
      ]
    },
    {
      "cell_type": "code",
      "execution_count": null,
      "metadata": {
        "colab": {
          "base_uri": "https://localhost:8080/"
        },
        "id": "rbEBwu8v_e7k",
        "outputId": "46605da0-7541-4c19-d7e8-f4375c16e530"
      },
      "outputs": [
        {
          "name": "stdout",
          "output_type": "stream",
          "text": [
            "[[1. 0. 0.]\n",
            " [0. 1. 0.]\n",
            " [0. 0. 1.]]\n"
          ]
        }
      ],
      "source": [
        "import numpy as np\n",
        "\n",
        "identity_matrix = np.eye(3)\n",
        "print(identity_matrix)"
      ]
    },
    {
      "cell_type": "code",
      "execution_count": null,
      "metadata": {
        "colab": {
          "base_uri": "https://localhost:8080/"
        },
        "id": "jZmNmRhi_5d5",
        "outputId": "89ae6b32-39dc-4435-ab7c-2013ea69aa3b"
      },
      "outputs": [
        {
          "name": "stdout",
          "output_type": "stream",
          "text": [
            "Random Array: [0.90194955 0.2958628  0.73556797 0.373304   0.19270826 0.10390279\n",
            " 0.55098612 0.6325474  0.81458712 0.7096229  0.51160908 0.6934913\n",
            " 0.65528062 0.84494295 0.22639448 0.91977653 0.15167487 0.12384516\n",
            " 0.1791533  0.04611074 0.28304405 0.3366826  0.75395779 0.57030658\n",
            " 0.2830948  0.67053403 0.9325251  0.63106907 0.48962659 0.19460936]\n",
            "Mean of the Array: 0.4936255959214154\n"
          ]
        }
      ],
      "source": [
        "import numpy as np\n",
        "\n",
        "random_array = np.random.random(30)\n",
        "\n",
        "array_mean = random_array.mean()\n",
        "\n",
        "print(\"Random Array:\", random_array)\n",
        "print(\"Mean of the Array:\", array_mean)"
      ]
    },
    {
      "cell_type": "code",
      "execution_count": null,
      "metadata": {
        "colab": {
          "base_uri": "https://localhost:8080/"
        },
        "id": "yiedAw8FkY9O",
        "outputId": "38ddb7ba-c684-4a60-ba8f-dffa203fd239"
      },
      "outputs": [
        {
          "name": "stdout",
          "output_type": "stream",
          "text": [
            "Random 10x10 Array:\n",
            "[[0.0866648  0.41423309 0.49138246 0.23278318 0.45090058 0.41491256\n",
            "  0.85363966 0.82761102 0.1568812  0.04031266]\n",
            " [0.99936199 0.21210709 0.79008814 0.98397879 0.05650833 0.50272489\n",
            "  0.01635359 0.71085438 0.48570778 0.46487217]\n",
            " [0.63570741 0.98716406 0.12673861 0.57780819 0.27270706 0.23837887\n",
            "  0.59230803 0.43057123 0.91469022 0.65346139]\n",
            " [0.91731656 0.28161622 0.0041309  0.28092692 0.6435923  0.07249001\n",
            "  0.56187295 0.87048649 0.69299291 0.14877722]\n",
            " [0.92959586 0.27173268 0.28648608 0.76289317 0.36000891 0.76453405\n",
            "  0.67088936 0.59604982 0.04852807 0.07994221]\n",
            " [0.40682109 0.99394342 0.84907002 0.24758754 0.83420609 0.44650506\n",
            "  0.92892202 0.05963173 0.71381576 0.70633242]\n",
            " [0.88662339 0.65781024 0.3211844  0.80920349 0.06338027 0.81333411\n",
            "  0.75401323 0.19225885 0.21278111 0.02665572]\n",
            " [0.90855202 0.01240633 0.26746491 0.69846351 0.53419095 0.79998689\n",
            "  0.53663701 0.0743334  0.41709009 0.15801004]\n",
            " [0.71200506 0.14273923 0.45600955 0.90567079 0.28815419 0.42739881\n",
            "  0.5713621  0.62323836 0.71293709 0.25843626]\n",
            " [0.76214989 0.36691292 0.40633582 0.88810929 0.44156049 0.7061926\n",
            "  0.43765852 0.89934538 0.69056445 0.68242395]]\n",
            "\n",
            "Minimum Value: 0.004130896985780175\n",
            "Maximum Value: 0.9993619941066763\n"
          ]
        }
      ],
      "source": [
        "import numpy as np\n",
        "\n",
        "random_array = np.random.random((10, 10))\n",
        "\n",
        "min_value = random_array.min()\n",
        "max_value = random_array.max()\n",
        "\n",
        "print(\"Random 10x10 Array:\")\n",
        "print(random_array)\n",
        "print(\"\\nMinimum Value:\", min_value)\n",
        "print(\"Maximum Value:\", max_value)"
      ]
    },
    {
      "cell_type": "code",
      "execution_count": null,
      "metadata": {
        "colab": {
          "base_uri": "https://localhost:8080/"
        },
        "id": "sXCKUXqkkwQi",
        "outputId": "6a68853e-61d8-47ec-b1d9-109d1d4101f4"
      },
      "outputs": [
        {
          "name": "stdout",
          "output_type": "stream",
          "text": [
            "[0. 0. 0. 0. 1. 0. 0. 0. 0. 0.]\n"
          ]
        }
      ],
      "source": [
        "import numpy as np\n",
        "\n",
        "zero_array = np.zeros(10)\n",
        "\n",
        "zero_array[4] = 1\n",
        "\n",
        "print(zero_array)"
      ]
    },
    {
      "cell_type": "code",
      "execution_count": null,
      "metadata": {
        "colab": {
          "base_uri": "https://localhost:8080/"
        },
        "id": "ZLBCbAv8k6Mc",
        "outputId": "7a7b13c9-c0fb-4c2a-8b9f-3679325054ca"
      },
      "outputs": [
        {
          "data": {
            "text/plain": [
              "[0, 4, 0, 0, 2, 1]"
            ]
          },
          "execution_count": 1,
          "metadata": {},
          "output_type": "execute_result"
        }
      ],
      "source": [
        "import numpy as np\n",
        "\n",
        "arr = [1, 2, 0, 0, 4, 0]\n",
        "\n",
        "reversed_arr = arr[::-1]\n",
        "reversed_arr"
      ]
    },
    {
      "cell_type": "code",
      "execution_count": null,
      "metadata": {
        "colab": {
          "base_uri": "https://localhost:8080/"
        },
        "id": "KUOzKTe3-39S",
        "outputId": "6f189678-60ba-46ac-8775-1ad4d634ac01"
      },
      "outputs": [
        {
          "data": {
            "text/plain": [
              "array([[1., 1., 1., 1., 1.],\n",
              "       [1., 0., 0., 0., 1.],\n",
              "       [1., 0., 0., 0., 1.],\n",
              "       [1., 0., 0., 0., 1.],\n",
              "       [1., 1., 1., 1., 1.]])"
            ]
          },
          "execution_count": 2,
          "metadata": {},
          "output_type": "execute_result"
        }
      ],
      "source": [
        "import numpy as np\n",
        "border_array = np.ones((5, 5))\n",
        "border_array[1:-1, 1:-1] = 0\n",
        "border_array"
      ]
    },
    {
      "cell_type": "code",
      "execution_count": null,
      "metadata": {
        "colab": {
          "base_uri": "https://localhost:8080/"
        },
        "id": "Ges75zIy-_Kc",
        "outputId": "645ce989-5643-491e-96e9-f65b8f811f93"
      },
      "outputs": [
        {
          "data": {
            "text/plain": [
              "array([[0, 1, 0, 1, 0, 1, 0, 1],\n",
              "       [1, 0, 1, 0, 1, 0, 1, 0],\n",
              "       [0, 1, 0, 1, 0, 1, 0, 1],\n",
              "       [1, 0, 1, 0, 1, 0, 1, 0],\n",
              "       [0, 1, 0, 1, 0, 1, 0, 1],\n",
              "       [1, 0, 1, 0, 1, 0, 1, 0],\n",
              "       [0, 1, 0, 1, 0, 1, 0, 1],\n",
              "       [1, 0, 1, 0, 1, 0, 1, 0]])"
            ]
          },
          "execution_count": 3,
          "metadata": {},
          "output_type": "execute_result"
        }
      ],
      "source": [
        "import numpy as np\n",
        "checkerboard = np.zeros((8, 8), dtype=int)\n",
        "\n",
        "checkerboard[1::2, ::2] = 1\n",
        "checkerboard[::2, 1::2] = 1\n",
        "checkerboard\n",
        "\n"
      ]
    },
    {
      "cell_type": "code",
      "execution_count": null,
      "metadata": {
        "colab": {
          "base_uri": "https://localhost:8080/"
        },
        "id": "Gxs9swSA_GT2",
        "outputId": "7e3083ce-17d3-4c06-c472-583b342debdf"
      },
      "outputs": [
        {
          "data": {
            "text/plain": [
              "array([[ 6,  8],\n",
              "       [10, 13]])"
            ]
          },
          "execution_count": 4,
          "metadata": {},
          "output_type": "execute_result"
        }
      ],
      "source": [
        "import numpy as np\n",
        "\n",
        "x = np.array([[1, 2], [3, 5]])\n",
        "y = np.array([[5, 6], [7, 8]])\n",
        "v = np.array([9, 10])\n",
        "w = np.array([11, 12])\n",
        "\n",
        "sum_xy = np.add(x, y)\n",
        "sum_xy"
      ]
    },
    {
      "cell_type": "code",
      "execution_count": null,
      "metadata": {
        "colab": {
          "base_uri": "https://localhost:8080/"
        },
        "id": "CJIWVAmX_Kwx",
        "outputId": "ed493247-4223-4241-828d-5c8cd70e3586"
      },
      "outputs": [
        {
          "data": {
            "text/plain": [
              "array([-2, -2])"
            ]
          },
          "execution_count": 5,
          "metadata": {},
          "output_type": "execute_result"
        }
      ],
      "source": [
        "import numpy as np\n",
        "\n",
        "x = np.array([[1, 2], [3, 5]])\n",
        "y = np.array([[5, 6], [7, 8]])\n",
        "v = np.array([9, 10])\n",
        "w = np.array([11, 12])\n",
        "\n",
        "diff_vw = np.subtract(v, w)\n",
        "diff_vw"
      ]
    },
    {
      "cell_type": "code",
      "execution_count": null,
      "metadata": {
        "colab": {
          "base_uri": "https://localhost:8080/"
        },
        "id": "xXkSRii9_PIL",
        "outputId": "08c86175-48ff-42b0-a905-1f810b90040c"
      },
      "outputs": [
        {
          "data": {
            "text/plain": [
              "array([[ 3,  6],\n",
              "       [ 9, 15]])"
            ]
          },
          "execution_count": 6,
          "metadata": {},
          "output_type": "execute_result"
        }
      ],
      "source": [
        "import numpy as np\n",
        "\n",
        "x = np.array([[1, 2], [3, 5]])\n",
        "y = np.array([[5, 6], [7, 8]])\n",
        "v = np.array([9, 10])\n",
        "w = np.array([11, 12])\n",
        "\n",
        "mul_v = x * 3\n",
        "mul_v"
      ]
    },
    {
      "cell_type": "code",
      "execution_count": null,
      "metadata": {
        "colab": {
          "base_uri": "https://localhost:8080/"
        },
        "id": "J3DyWE3R_SRw",
        "outputId": "0bd2e94c-6dc6-40c6-e5cc-aa595c7495af"
      },
      "outputs": [
        {
          "data": {
            "text/plain": [
              "array([121, 144])"
            ]
          },
          "execution_count": 7,
          "metadata": {},
          "output_type": "execute_result"
        }
      ],
      "source": [
        "import numpy as np\n",
        "\n",
        "x = np.array([[1, 2], [3, 5]])\n",
        "y = np.array([[5, 6], [7, 8]])\n",
        "v = np.array([9, 10])\n",
        "w = np.array([11, 12])\n",
        "\n",
        "square_w = np.square(w)\n",
        "square_w"
      ]
    },
    {
      "cell_type": "code",
      "execution_count": null,
      "metadata": {
        "colab": {
          "base_uri": "https://localhost:8080/"
        },
        "id": "yoHtQY5R_UG9",
        "outputId": "fdf6a7a5-ff0c-4f4b-c4b4-40eceaabc1c5"
      },
      "outputs": [
        {
          "data": {
            "text/plain": [
              "(219,\n",
              " array([29, 77]),\n",
              " array([[19, 22],\n",
              "        [50, 58]]))"
            ]
          },
          "execution_count": 8,
          "metadata": {},
          "output_type": "execute_result"
        }
      ],
      "source": [
        "import numpy as np\n",
        "\n",
        "x = np.array([[1, 2], [3, 5]])\n",
        "y = np.array([[5, 6], [7, 8]])\n",
        "v = np.array([9, 10])\n",
        "w = np.array([11, 12])\n",
        "\n",
        "dot_vw = np.dot(v, w)\n",
        "\n",
        "dot_xv = np.dot(x, v)\n",
        "\n",
        "dot_xy = np.dot(x, y)\n",
        "\n",
        "(dot_vw, dot_xv, dot_xy)"
      ]
    },
    {
      "cell_type": "code",
      "execution_count": null,
      "metadata": {
        "colab": {
          "base_uri": "https://localhost:8080/"
        },
        "id": "Oaf6MFnC_a_d",
        "outputId": "ed553ad9-0bfd-4d77-94db-111259a9769b"
      },
      "outputs": [
        {
          "data": {
            "text/plain": [
              "(array([[1, 2],\n",
              "        [3, 5],\n",
              "        [5, 6],\n",
              "        [7, 8]]),\n",
              " array([[ 9, 10],\n",
              "        [11, 12]]))"
            ]
          },
          "execution_count": 9,
          "metadata": {},
          "output_type": "execute_result"
        }
      ],
      "source": [
        "import numpy as np\n",
        "\n",
        "x = np.array([[1, 2], [3, 5]])\n",
        "y = np.array([[5, 6], [7, 8]])\n",
        "v = np.array([9, 10])\n",
        "w = np.array([11, 12])\n",
        "\n",
        "concat_xy_row = np.concatenate((x, y), axis=0)\n",
        "\n",
        "concat_vw_col = np.vstack((v, w))\n",
        "concat_xy_row, concat_vw_col"
      ]
    },
    {
      "cell_type": "code",
      "execution_count": null,
      "metadata": {
        "colab": {
          "base_uri": "https://localhost:8080/",
          "height": 35
        },
        "id": "qy4iGOHj_et3",
        "outputId": "ea1f479a-5b39-435b-8678-d7bd9dde9a94"
      },
      "outputs": [
        {
          "data": {
            "application/vnd.google.colaboratory.intrinsic+json": {
              "type": "string"
            },
            "text/plain": [
              "'all the input arrays must have same number of dimensions, but the array at index 0 has 2 dimension(s) and the array at index 1 has 1 dimension(s)'"
            ]
          },
          "execution_count": 10,
          "metadata": {},
          "output_type": "execute_result"
        }
      ],
      "source": [
        "import numpy as np\n",
        "\n",
        "x = np.array([[1, 2], [3, 5]])\n",
        "y = np.array([[5, 6], [7, 8]])\n",
        "v = np.array([9, 10])\n",
        "w = np.array([11, 12])\n",
        "\n",
        "try:\n",
        "    concat_xv = np.concatenate((x, v), axis=0)\n",
        "except ValueError as e:\n",
        "    concat_xv_error = str(e)\n",
        "\n",
        "concat_xv_error\n",
        "#all the input arrays must have same number of dimensions, but the array at index 0 has 2 dimension(s) and the array at index 1 has 1 dimension(s)'"
      ]
    },
    {
      "cell_type": "code",
      "execution_count": null,
      "metadata": {
        "colab": {
          "base_uri": "https://localhost:8080/"
        },
        "id": "TlxCqcZd_pcE",
        "outputId": "85042f5a-52bb-4192-ff03-5a86d4380246"
      },
      "outputs": [
        {
          "name": "stdout",
          "output_type": "stream",
          "text": [
            "A * A^-1 = I:\n",
            "[[1.00000000e+00 0.00000000e+00]\n",
            " [1.77635684e-15 1.00000000e+00]]\n",
            "AB:\n",
            "[[23 13]\n",
            " [51 29]]\n",
            "BA:\n",
            "[[36 44]\n",
            " [13 16]]\n",
            "AB == BA: False\n",
            "(AB)^T:\n",
            "[[23 51]\n",
            " [13 29]]\n",
            "B^T * A^T:\n",
            "[[23 51]\n",
            " [13 29]]\n",
            "(AB)^T == B^T * A^T: True\n",
            "Solution to the system of equations using inverse method:\n",
            "[ 2.  1. -2.]\n"
          ]
        }
      ],
      "source": [
        "import numpy as np\n",
        "\n",
        "A = np.array([[3, 4], [7, 8]])\n",
        "B = np.array([[5, 3], [2, 1]])\n",
        "\n",
        "A_inv = np.linalg.inv(A)\n",
        "I = np.dot(A, A_inv)\n",
        "print(\"A * A^-1 = I:\")\n",
        "print(I)\n",
        "\n",
        "AB = np.dot(A, B)\n",
        "BA = np.dot(B, A)\n",
        "print(\"AB:\")\n",
        "print(AB)\n",
        "print(\"BA:\")\n",
        "print(BA)\n",
        "print(\"AB == BA:\", np.array_equal(AB, BA))\n",
        "\n",
        "AB_T = np.transpose(AB)\n",
        "BT_AT = np.dot(np.transpose(B), np.transpose(A))\n",
        "print(\"(AB)^T:\")\n",
        "print(AB_T)\n",
        "print(\"B^T * A^T:\")\n",
        "print(BT_AT)\n",
        "print(\"(AB)^T == B^T * A^T:\", np.array_equal(AB_T, BT_AT))\n",
        "A_system = np.array([[2, -3, 1], [1, -1, 2], [3, 1, -1]])\n",
        "B_system = np.array([-1, -3, 9])\n",
        "\n",
        "A_inv_system = np.linalg.inv(A_system)\n",
        "X = np.dot(A_inv_system, B_system)\n",
        "print(\"Solution to the system of equations using inverse method:\")\n",
        "print(X)\n"
      ]
    },
    {
      "cell_type": "code",
      "execution_count": null,
      "metadata": {
        "colab": {
          "background_save": true,
          "base_uri": "https://localhost:8080/"
        },
        "id": "eMTgYXH5AdMF",
        "outputId": "708472c8-62b1-4d20-f379-aa90b0515bbf"
      },
      "outputs": [
        {
          "name": "stdout",
          "output_type": "stream",
          "text": [
            "List Addition Time: 0.1707 seconds\n",
            "NumPy Addition Time: 0.0041 seconds\n",
            "List Multiplication Time: 0.1765 seconds\n",
            "NumPy Multiplication Time: 0.0049 seconds\n",
            "List Dot Product Time: 0.1564 seconds\n",
            "NumPy Dot Product Time: 0.0019 seconds\n",
            "List Matrix Multiplication Time: 255.0887 seconds\n",
            "NumPy Matrix Multiplication Time: 0.0624 seconds\n"
          ]
        }
      ],
      "source": [
        "import time\n",
        "import numpy as np\n",
        "\n",
        "list1, list2 = [i for i in range(1000000)], [i for i in range(1000000)]\n",
        "start = time.time()\n",
        "result_list_add = [list1[i] + list2[i] for i in range(1000000)]\n",
        "print(f\"List Addition Time: {time.time() - start:.4f} seconds\")\n",
        "\n",
        "array1, array2 = np.arange(1000000), np.arange(1000000)\n",
        "start = time.time()\n",
        "result_array_add = array1 + array2\n",
        "print(f\"NumPy Addition Time: {time.time() - start:.4f} seconds\")\n",
        "\n",
        "start = time.time()\n",
        "result_list_mul = [list1[i] * list2[i] for i in range(1000000)]\n",
        "print(f\"List Multiplication Time: {time.time() - start:.4f} seconds\")\n",
        "\n",
        "start = time.time()\n",
        "result_array_mul = array1 * array2\n",
        "print(f\"NumPy Multiplication Time: {time.time() - start:.4f} seconds\")\n",
        "\n",
        "start = time.time()\n",
        "dot_product_list = sum(list1[i] * list2[i] for i in range(1000000))\n",
        "print(f\"List Dot Product Time: {time.time() - start:.4f} seconds\")\n",
        "\n",
        "start = time.time()\n",
        "dot_product_array = np.dot(array1, array2)\n",
        "print(f\"NumPy Dot Product Time: {time.time() - start:.4f} seconds\")\n",
        "\n",
        "matrix1 = [[i + j for j in range(1000)] for i in range(1000)]\n",
        "matrix2 = [[i + j for j in range(1000)] for i in range(1000)]\n",
        "start = time.time()\n",
        "result_matrix_mul_list = [[sum(matrix1[i][k] * matrix2[k][j] for k in range(1000)) for j in range(1000)] for i in range(1000)]\n",
        "print(f\"List Matrix Multiplication Time: {time.time() - start:.4f} seconds\")\n",
        "\n",
        "matrix1_np, matrix2_np = np.random.rand(1000, 1000), np.random.rand(1000, 1000)\n",
        "start = time.time()\n",
        "result_matrix_mul_np = np.dot(matrix1_np, matrix2_np)\n",
        "print(f\"NumPy Matrix Multiplication Time: {time.time() - start:.4f} seconds\")\n"
      ]
    }
  ],
  "metadata": {
    "colab": {
      "provenance": []
    },
    "kernelspec": {
      "display_name": "Python 3",
      "name": "python3"
    },
    "language_info": {
      "name": "python"
    }
  },
  "nbformat": 4,
  "nbformat_minor": 0
}